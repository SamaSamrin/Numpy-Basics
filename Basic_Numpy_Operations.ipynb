{
  "nbformat": 4,
  "nbformat_minor": 0,
  "metadata": {
    "colab": {
      "provenance": [],
      "authorship_tag": "ABX9TyMXVvkmWmCPI1l/6CfRyh5C",
      "include_colab_link": true
    },
    "kernelspec": {
      "name": "python3",
      "display_name": "Python 3"
    },
    "language_info": {
      "name": "python"
    }
  },
  "cells": [
    {
      "cell_type": "markdown",
      "metadata": {
        "id": "view-in-github",
        "colab_type": "text"
      },
      "source": [
        "<a href=\"https://colab.research.google.com/github/SamaSamrin/Numpy-Basics/blob/main/Basic_Numpy_Operations.ipynb\" target=\"_parent\"><img src=\"https://colab.research.google.com/assets/colab-badge.svg\" alt=\"Open In Colab\"/></a>"
      ]
    },
    {
      "cell_type": "code",
      "execution_count": 16,
      "metadata": {
        "colab": {
          "base_uri": "https://localhost:8080/"
        },
        "id": "TUs_pN5kxb7i",
        "outputId": "cedb5bad-9e06-4aba-c238-604e4c1398e1"
      },
      "outputs": [
        {
          "output_type": "stream",
          "name": "stdout",
          "text": [
            "[[1.6  1.75]\n",
            " [1.56 1.7 ]\n",
            " [1.49 1.68]]\n"
          ]
        }
      ],
      "source": [
        "import numpy as np\n",
        "\n",
        "#defining a numpy array variable, 2D matrix\n",
        "np_heights = np.array([[1.6,1.75],[1.56,1.7],[1.49,1.68]])\n",
        "\n",
        "print(np_heights)"
      ]
    },
    {
      "cell_type": "code",
      "source": [
        "#printing the entire first column of the 2D array\n",
        "print(np_heights[:,0])"
      ],
      "metadata": {
        "colab": {
          "base_uri": "https://localhost:8080/"
        },
        "id": "DtvlHVQWx9RH",
        "outputId": "29345ba7-9520-435e-fcaa-16b6b81f8de2"
      },
      "execution_count": 17,
      "outputs": [
        {
          "output_type": "stream",
          "name": "stdout",
          "text": [
            "[1.6  1.56 1.49]\n"
          ]
        }
      ]
    },
    {
      "cell_type": "code",
      "source": [
        "#printing mean of the values in the entire first column\n",
        "print(np.mean(np_heights[:,0]))"
      ],
      "metadata": {
        "colab": {
          "base_uri": "https://localhost:8080/"
        },
        "id": "cxFlNPvHyCQx",
        "outputId": "81e4bbfa-d147-4b26-ca3f-4dc6871318e5"
      },
      "execution_count": 18,
      "outputs": [
        {
          "output_type": "stream",
          "name": "stdout",
          "text": [
            "1.55\n"
          ]
        }
      ]
    },
    {
      "cell_type": "code",
      "source": [
        "print(np.average(np_heights[:,0]))"
      ],
      "metadata": {
        "colab": {
          "base_uri": "https://localhost:8080/"
        },
        "id": "aW6_WHZbydSA",
        "outputId": "c6f4657b-03a6-4ea1-eaff-628681db620a"
      },
      "execution_count": 10,
      "outputs": [
        {
          "output_type": "stream",
          "name": "stdout",
          "text": [
            "1.55\n"
          ]
        }
      ]
    }
  ]
}